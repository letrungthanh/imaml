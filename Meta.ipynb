{
  "nbformat": 4,
  "nbformat_minor": 0,
  "metadata": {
    "colab": {
      "name": "Meta.ipynb",
      "provenance": [],
      "collapsed_sections": [],
      "toc_visible": true,
      "include_colab_link": true
    },
    "kernelspec": {
      "name": "python3",
      "display_name": "Python 3"
    },
    "language_info": {
      "name": "python"
    },
    "accelerator": "GPU",
    "widgets": {
      "application/vnd.jupyter.widget-state+json": {
        "b9d72d06c6b24624a83084dc94f790c2": {
          "model_module": "@jupyter-widgets/controls",
          "model_name": "HBoxModel",
          "model_module_version": "1.5.0",
          "state": {
            "_dom_classes": [],
            "_model_module": "@jupyter-widgets/controls",
            "_model_module_version": "1.5.0",
            "_model_name": "HBoxModel",
            "_view_count": null,
            "_view_module": "@jupyter-widgets/controls",
            "_view_module_version": "1.5.0",
            "_view_name": "HBoxView",
            "box_style": "",
            "children": [
              "IPY_MODEL_77dce6dfef3340d9b563618cae9aad3a",
              "IPY_MODEL_662622d0264b440090097bacf174aced",
              "IPY_MODEL_b2a858da7e314686bad4d914e7f94c28"
            ],
            "layout": "IPY_MODEL_ae1562d6caae4c87afd9dd18650db23e"
          }
        },
        "77dce6dfef3340d9b563618cae9aad3a": {
          "model_module": "@jupyter-widgets/controls",
          "model_name": "HTMLModel",
          "model_module_version": "1.5.0",
          "state": {
            "_dom_classes": [],
            "_model_module": "@jupyter-widgets/controls",
            "_model_module_version": "1.5.0",
            "_model_name": "HTMLModel",
            "_view_count": null,
            "_view_module": "@jupyter-widgets/controls",
            "_view_module_version": "1.5.0",
            "_view_name": "HTMLView",
            "description": "",
            "description_tooltip": null,
            "layout": "IPY_MODEL_552063b845ec4a4fbbaabef98d08a160",
            "placeholder": "​",
            "style": "IPY_MODEL_981ce36ea72b4a13aa3f53a58f4f451c",
            "value": "Train Supervised: 100%"
          }
        },
        "662622d0264b440090097bacf174aced": {
          "model_module": "@jupyter-widgets/controls",
          "model_name": "FloatProgressModel",
          "model_module_version": "1.5.0",
          "state": {
            "_dom_classes": [],
            "_model_module": "@jupyter-widgets/controls",
            "_model_module_version": "1.5.0",
            "_model_name": "FloatProgressModel",
            "_view_count": null,
            "_view_module": "@jupyter-widgets/controls",
            "_view_module_version": "1.5.0",
            "_view_name": "ProgressView",
            "bar_style": "",
            "description": "",
            "description_tooltip": null,
            "layout": "IPY_MODEL_649d4b2cfcb94ed4ad0ce5d2a6abfb4d",
            "max": 50,
            "min": 0,
            "orientation": "horizontal",
            "style": "IPY_MODEL_a80dd279b7a04ce9a4b5fb77e9975a68",
            "value": 50
          }
        },
        "b2a858da7e314686bad4d914e7f94c28": {
          "model_module": "@jupyter-widgets/controls",
          "model_name": "HTMLModel",
          "model_module_version": "1.5.0",
          "state": {
            "_dom_classes": [],
            "_model_module": "@jupyter-widgets/controls",
            "_model_module_version": "1.5.0",
            "_model_name": "HTMLModel",
            "_view_count": null,
            "_view_module": "@jupyter-widgets/controls",
            "_view_module_version": "1.5.0",
            "_view_name": "HTMLView",
            "description": "",
            "description_tooltip": null,
            "layout": "IPY_MODEL_29b221afa68e4b1496cb683f89d17bb1",
            "placeholder": "​",
            "style": "IPY_MODEL_eeddaa38bbb041359aea2167cc76ab87",
            "value": " 50/50 [00:16&lt;00:00,  3.17it/s]"
          }
        },
        "ae1562d6caae4c87afd9dd18650db23e": {
          "model_module": "@jupyter-widgets/base",
          "model_name": "LayoutModel",
          "model_module_version": "1.2.0",
          "state": {
            "_model_module": "@jupyter-widgets/base",
            "_model_module_version": "1.2.0",
            "_model_name": "LayoutModel",
            "_view_count": null,
            "_view_module": "@jupyter-widgets/base",
            "_view_module_version": "1.2.0",
            "_view_name": "LayoutView",
            "align_content": null,
            "align_items": null,
            "align_self": null,
            "border": null,
            "bottom": null,
            "display": null,
            "flex": null,
            "flex_flow": null,
            "grid_area": null,
            "grid_auto_columns": null,
            "grid_auto_flow": null,
            "grid_auto_rows": null,
            "grid_column": null,
            "grid_gap": null,
            "grid_row": null,
            "grid_template_areas": null,
            "grid_template_columns": null,
            "grid_template_rows": null,
            "height": null,
            "justify_content": null,
            "justify_items": null,
            "left": null,
            "margin": null,
            "max_height": null,
            "max_width": null,
            "min_height": null,
            "min_width": null,
            "object_fit": null,
            "object_position": null,
            "order": null,
            "overflow": null,
            "overflow_x": null,
            "overflow_y": null,
            "padding": null,
            "right": null,
            "top": null,
            "visibility": null,
            "width": null
          }
        },
        "552063b845ec4a4fbbaabef98d08a160": {
          "model_module": "@jupyter-widgets/base",
          "model_name": "LayoutModel",
          "model_module_version": "1.2.0",
          "state": {
            "_model_module": "@jupyter-widgets/base",
            "_model_module_version": "1.2.0",
            "_model_name": "LayoutModel",
            "_view_count": null,
            "_view_module": "@jupyter-widgets/base",
            "_view_module_version": "1.2.0",
            "_view_name": "LayoutView",
            "align_content": null,
            "align_items": null,
            "align_self": null,
            "border": null,
            "bottom": null,
            "display": null,
            "flex": null,
            "flex_flow": null,
            "grid_area": null,
            "grid_auto_columns": null,
            "grid_auto_flow": null,
            "grid_auto_rows": null,
            "grid_column": null,
            "grid_gap": null,
            "grid_row": null,
            "grid_template_areas": null,
            "grid_template_columns": null,
            "grid_template_rows": null,
            "height": null,
            "justify_content": null,
            "justify_items": null,
            "left": null,
            "margin": null,
            "max_height": null,
            "max_width": null,
            "min_height": null,
            "min_width": null,
            "object_fit": null,
            "object_position": null,
            "order": null,
            "overflow": null,
            "overflow_x": null,
            "overflow_y": null,
            "padding": null,
            "right": null,
            "top": null,
            "visibility": null,
            "width": null
          }
        },
        "981ce36ea72b4a13aa3f53a58f4f451c": {
          "model_module": "@jupyter-widgets/controls",
          "model_name": "DescriptionStyleModel",
          "model_module_version": "1.5.0",
          "state": {
            "_model_module": "@jupyter-widgets/controls",
            "_model_module_version": "1.5.0",
            "_model_name": "DescriptionStyleModel",
            "_view_count": null,
            "_view_module": "@jupyter-widgets/base",
            "_view_module_version": "1.2.0",
            "_view_name": "StyleView",
            "description_width": ""
          }
        },
        "649d4b2cfcb94ed4ad0ce5d2a6abfb4d": {
          "model_module": "@jupyter-widgets/base",
          "model_name": "LayoutModel",
          "model_module_version": "1.2.0",
          "state": {
            "_model_module": "@jupyter-widgets/base",
            "_model_module_version": "1.2.0",
            "_model_name": "LayoutModel",
            "_view_count": null,
            "_view_module": "@jupyter-widgets/base",
            "_view_module_version": "1.2.0",
            "_view_name": "LayoutView",
            "align_content": null,
            "align_items": null,
            "align_self": null,
            "border": null,
            "bottom": null,
            "display": null,
            "flex": null,
            "flex_flow": null,
            "grid_area": null,
            "grid_auto_columns": null,
            "grid_auto_flow": null,
            "grid_auto_rows": null,
            "grid_column": null,
            "grid_gap": null,
            "grid_row": null,
            "grid_template_areas": null,
            "grid_template_columns": null,
            "grid_template_rows": null,
            "height": null,
            "justify_content": null,
            "justify_items": null,
            "left": null,
            "margin": null,
            "max_height": null,
            "max_width": null,
            "min_height": null,
            "min_width": null,
            "object_fit": null,
            "object_position": null,
            "order": null,
            "overflow": null,
            "overflow_x": null,
            "overflow_y": null,
            "padding": null,
            "right": null,
            "top": null,
            "visibility": null,
            "width": null
          }
        },
        "a80dd279b7a04ce9a4b5fb77e9975a68": {
          "model_module": "@jupyter-widgets/controls",
          "model_name": "ProgressStyleModel",
          "model_module_version": "1.5.0",
          "state": {
            "_model_module": "@jupyter-widgets/controls",
            "_model_module_version": "1.5.0",
            "_model_name": "ProgressStyleModel",
            "_view_count": null,
            "_view_module": "@jupyter-widgets/base",
            "_view_module_version": "1.2.0",
            "_view_name": "StyleView",
            "bar_color": null,
            "description_width": ""
          }
        },
        "29b221afa68e4b1496cb683f89d17bb1": {
          "model_module": "@jupyter-widgets/base",
          "model_name": "LayoutModel",
          "model_module_version": "1.2.0",
          "state": {
            "_model_module": "@jupyter-widgets/base",
            "_model_module_version": "1.2.0",
            "_model_name": "LayoutModel",
            "_view_count": null,
            "_view_module": "@jupyter-widgets/base",
            "_view_module_version": "1.2.0",
            "_view_name": "LayoutView",
            "align_content": null,
            "align_items": null,
            "align_self": null,
            "border": null,
            "bottom": null,
            "display": null,
            "flex": null,
            "flex_flow": null,
            "grid_area": null,
            "grid_auto_columns": null,
            "grid_auto_flow": null,
            "grid_auto_rows": null,
            "grid_column": null,
            "grid_gap": null,
            "grid_row": null,
            "grid_template_areas": null,
            "grid_template_columns": null,
            "grid_template_rows": null,
            "height": null,
            "justify_content": null,
            "justify_items": null,
            "left": null,
            "margin": null,
            "max_height": null,
            "max_width": null,
            "min_height": null,
            "min_width": null,
            "object_fit": null,
            "object_position": null,
            "order": null,
            "overflow": null,
            "overflow_x": null,
            "overflow_y": null,
            "padding": null,
            "right": null,
            "top": null,
            "visibility": null,
            "width": null
          }
        },
        "eeddaa38bbb041359aea2167cc76ab87": {
          "model_module": "@jupyter-widgets/controls",
          "model_name": "DescriptionStyleModel",
          "model_module_version": "1.5.0",
          "state": {
            "_model_module": "@jupyter-widgets/controls",
            "_model_module_version": "1.5.0",
            "_model_name": "DescriptionStyleModel",
            "_view_count": null,
            "_view_module": "@jupyter-widgets/base",
            "_view_module_version": "1.2.0",
            "_view_name": "StyleView",
            "description_width": ""
          }
        },
        "51f7e5dd0cd84da4ac6af4302e04dc44": {
          "model_module": "@jupyter-widgets/controls",
          "model_name": "HBoxModel",
          "model_module_version": "1.5.0",
          "state": {
            "_dom_classes": [],
            "_model_module": "@jupyter-widgets/controls",
            "_model_module_version": "1.5.0",
            "_model_name": "HBoxModel",
            "_view_count": null,
            "_view_module": "@jupyter-widgets/controls",
            "_view_module_version": "1.5.0",
            "_view_name": "HBoxView",
            "box_style": "",
            "children": [
              "IPY_MODEL_561b4b36294448f0a41bcd3dec24e2d9",
              "IPY_MODEL_8b2a40857d0945b68c65854ef5e63657",
              "IPY_MODEL_2b6f8be39e5746459554d67d752a474d"
            ],
            "layout": "IPY_MODEL_c03cc66fc7bd41dab3036902c9b83128"
          }
        },
        "561b4b36294448f0a41bcd3dec24e2d9": {
          "model_module": "@jupyter-widgets/controls",
          "model_name": "HTMLModel",
          "model_module_version": "1.5.0",
          "state": {
            "_dom_classes": [],
            "_model_module": "@jupyter-widgets/controls",
            "_model_module_version": "1.5.0",
            "_model_name": "HTMLModel",
            "_view_count": null,
            "_view_module": "@jupyter-widgets/controls",
            "_view_module_version": "1.5.0",
            "_view_name": "HTMLView",
            "description": "",
            "description_tooltip": null,
            "layout": "IPY_MODEL_ed9a3d046e5e4d84a7049b2baa43bd4e",
            "placeholder": "​",
            "style": "IPY_MODEL_6117593a2a8a41c5ab470de709adeda0",
            "value": "i-MAML Epoch: 100%"
          }
        },
        "8b2a40857d0945b68c65854ef5e63657": {
          "model_module": "@jupyter-widgets/controls",
          "model_name": "FloatProgressModel",
          "model_module_version": "1.5.0",
          "state": {
            "_dom_classes": [],
            "_model_module": "@jupyter-widgets/controls",
            "_model_module_version": "1.5.0",
            "_model_name": "FloatProgressModel",
            "_view_count": null,
            "_view_module": "@jupyter-widgets/controls",
            "_view_module_version": "1.5.0",
            "_view_name": "ProgressView",
            "bar_style": "success",
            "description": "",
            "description_tooltip": null,
            "layout": "IPY_MODEL_5b2e678e1b78461ebf4c6b763496d5fb",
            "max": 200,
            "min": 0,
            "orientation": "horizontal",
            "style": "IPY_MODEL_4b62e84f90f4485ab4e9b60d7ffda002",
            "value": 200
          }
        },
        "2b6f8be39e5746459554d67d752a474d": {
          "model_module": "@jupyter-widgets/controls",
          "model_name": "HTMLModel",
          "model_module_version": "1.5.0",
          "state": {
            "_dom_classes": [],
            "_model_module": "@jupyter-widgets/controls",
            "_model_module_version": "1.5.0",
            "_model_name": "HTMLModel",
            "_view_count": null,
            "_view_module": "@jupyter-widgets/controls",
            "_view_module_version": "1.5.0",
            "_view_name": "HTMLView",
            "description": "",
            "description_tooltip": null,
            "layout": "IPY_MODEL_a09de1e8b26b46849a82f085107a4044",
            "placeholder": "​",
            "style": "IPY_MODEL_a7b8fc4b3803415b8c22c450ed77ad3c",
            "value": " 200/200 [08:57&lt;00:00,  2.40s/it, max_test_acc=85.4, test_acc=84.5]"
          }
        },
        "c03cc66fc7bd41dab3036902c9b83128": {
          "model_module": "@jupyter-widgets/base",
          "model_name": "LayoutModel",
          "model_module_version": "1.2.0",
          "state": {
            "_model_module": "@jupyter-widgets/base",
            "_model_module_version": "1.2.0",
            "_model_name": "LayoutModel",
            "_view_count": null,
            "_view_module": "@jupyter-widgets/base",
            "_view_module_version": "1.2.0",
            "_view_name": "LayoutView",
            "align_content": null,
            "align_items": null,
            "align_self": null,
            "border": null,
            "bottom": null,
            "display": null,
            "flex": null,
            "flex_flow": null,
            "grid_area": null,
            "grid_auto_columns": null,
            "grid_auto_flow": null,
            "grid_auto_rows": null,
            "grid_column": null,
            "grid_gap": null,
            "grid_row": null,
            "grid_template_areas": null,
            "grid_template_columns": null,
            "grid_template_rows": null,
            "height": null,
            "justify_content": null,
            "justify_items": null,
            "left": null,
            "margin": null,
            "max_height": null,
            "max_width": null,
            "min_height": null,
            "min_width": null,
            "object_fit": null,
            "object_position": null,
            "order": null,
            "overflow": null,
            "overflow_x": null,
            "overflow_y": null,
            "padding": null,
            "right": null,
            "top": null,
            "visibility": null,
            "width": null
          }
        },
        "ed9a3d046e5e4d84a7049b2baa43bd4e": {
          "model_module": "@jupyter-widgets/base",
          "model_name": "LayoutModel",
          "model_module_version": "1.2.0",
          "state": {
            "_model_module": "@jupyter-widgets/base",
            "_model_module_version": "1.2.0",
            "_model_name": "LayoutModel",
            "_view_count": null,
            "_view_module": "@jupyter-widgets/base",
            "_view_module_version": "1.2.0",
            "_view_name": "LayoutView",
            "align_content": null,
            "align_items": null,
            "align_self": null,
            "border": null,
            "bottom": null,
            "display": null,
            "flex": null,
            "flex_flow": null,
            "grid_area": null,
            "grid_auto_columns": null,
            "grid_auto_flow": null,
            "grid_auto_rows": null,
            "grid_column": null,
            "grid_gap": null,
            "grid_row": null,
            "grid_template_areas": null,
            "grid_template_columns": null,
            "grid_template_rows": null,
            "height": null,
            "justify_content": null,
            "justify_items": null,
            "left": null,
            "margin": null,
            "max_height": null,
            "max_width": null,
            "min_height": null,
            "min_width": null,
            "object_fit": null,
            "object_position": null,
            "order": null,
            "overflow": null,
            "overflow_x": null,
            "overflow_y": null,
            "padding": null,
            "right": null,
            "top": null,
            "visibility": null,
            "width": null
          }
        },
        "6117593a2a8a41c5ab470de709adeda0": {
          "model_module": "@jupyter-widgets/controls",
          "model_name": "DescriptionStyleModel",
          "model_module_version": "1.5.0",
          "state": {
            "_model_module": "@jupyter-widgets/controls",
            "_model_module_version": "1.5.0",
            "_model_name": "DescriptionStyleModel",
            "_view_count": null,
            "_view_module": "@jupyter-widgets/base",
            "_view_module_version": "1.2.0",
            "_view_name": "StyleView",
            "description_width": ""
          }
        },
        "5b2e678e1b78461ebf4c6b763496d5fb": {
          "model_module": "@jupyter-widgets/base",
          "model_name": "LayoutModel",
          "model_module_version": "1.2.0",
          "state": {
            "_model_module": "@jupyter-widgets/base",
            "_model_module_version": "1.2.0",
            "_model_name": "LayoutModel",
            "_view_count": null,
            "_view_module": "@jupyter-widgets/base",
            "_view_module_version": "1.2.0",
            "_view_name": "LayoutView",
            "align_content": null,
            "align_items": null,
            "align_self": null,
            "border": null,
            "bottom": null,
            "display": null,
            "flex": null,
            "flex_flow": null,
            "grid_area": null,
            "grid_auto_columns": null,
            "grid_auto_flow": null,
            "grid_auto_rows": null,
            "grid_column": null,
            "grid_gap": null,
            "grid_row": null,
            "grid_template_areas": null,
            "grid_template_columns": null,
            "grid_template_rows": null,
            "height": null,
            "justify_content": null,
            "justify_items": null,
            "left": null,
            "margin": null,
            "max_height": null,
            "max_width": null,
            "min_height": null,
            "min_width": null,
            "object_fit": null,
            "object_position": null,
            "order": null,
            "overflow": null,
            "overflow_x": null,
            "overflow_y": null,
            "padding": null,
            "right": null,
            "top": null,
            "visibility": null,
            "width": null
          }
        },
        "4b62e84f90f4485ab4e9b60d7ffda002": {
          "model_module": "@jupyter-widgets/controls",
          "model_name": "ProgressStyleModel",
          "model_module_version": "1.5.0",
          "state": {
            "_model_module": "@jupyter-widgets/controls",
            "_model_module_version": "1.5.0",
            "_model_name": "ProgressStyleModel",
            "_view_count": null,
            "_view_module": "@jupyter-widgets/base",
            "_view_module_version": "1.2.0",
            "_view_name": "StyleView",
            "bar_color": null,
            "description_width": ""
          }
        },
        "a09de1e8b26b46849a82f085107a4044": {
          "model_module": "@jupyter-widgets/base",
          "model_name": "LayoutModel",
          "model_module_version": "1.2.0",
          "state": {
            "_model_module": "@jupyter-widgets/base",
            "_model_module_version": "1.2.0",
            "_model_name": "LayoutModel",
            "_view_count": null,
            "_view_module": "@jupyter-widgets/base",
            "_view_module_version": "1.2.0",
            "_view_name": "LayoutView",
            "align_content": null,
            "align_items": null,
            "align_self": null,
            "border": null,
            "bottom": null,
            "display": null,
            "flex": null,
            "flex_flow": null,
            "grid_area": null,
            "grid_auto_columns": null,
            "grid_auto_flow": null,
            "grid_auto_rows": null,
            "grid_column": null,
            "grid_gap": null,
            "grid_row": null,
            "grid_template_areas": null,
            "grid_template_columns": null,
            "grid_template_rows": null,
            "height": null,
            "justify_content": null,
            "justify_items": null,
            "left": null,
            "margin": null,
            "max_height": null,
            "max_width": null,
            "min_height": null,
            "min_width": null,
            "object_fit": null,
            "object_position": null,
            "order": null,
            "overflow": null,
            "overflow_x": null,
            "overflow_y": null,
            "padding": null,
            "right": null,
            "top": null,
            "visibility": null,
            "width": null
          }
        },
        "a7b8fc4b3803415b8c22c450ed77ad3c": {
          "model_module": "@jupyter-widgets/controls",
          "model_name": "DescriptionStyleModel",
          "model_module_version": "1.5.0",
          "state": {
            "_model_module": "@jupyter-widgets/controls",
            "_model_module_version": "1.5.0",
            "_model_name": "DescriptionStyleModel",
            "_view_count": null,
            "_view_module": "@jupyter-widgets/base",
            "_view_module_version": "1.2.0",
            "_view_name": "StyleView",
            "description_width": ""
          }
        }
      }
    }
  },
  "cells": [
    {
      "cell_type": "markdown",
      "metadata": {
        "id": "view-in-github",
        "colab_type": "text"
      },
      "source": [
        "<a href=\"https://colab.research.google.com/github/letrungthanh/imaml/blob/master/Meta.ipynb\" target=\"_parent\"><img src=\"https://colab.research.google.com/assets/colab-badge.svg\" alt=\"Open In Colab\"/></a>"
      ]
    },
    {
      "cell_type": "code",
      "execution_count": null,
      "metadata": {
        "colab": {
          "base_uri": "https://localhost:8080/"
        },
        "id": "OFkyyaTTYAdu",
        "outputId": "5792fae8-1b22-4617-aede-58ff1340eb15"
      },
      "outputs": [
        {
          "output_type": "stream",
          "name": "stdout",
          "text": [
            "\u001b[K     |████████████████████████████████| 210 kB 14.1 MB/s \n",
            "\u001b[K     |████████████████████████████████| 831.4 MB 6.9 kB/s \n",
            "\u001b[K     |████████████████████████████████| 22.1 MB 63.9 MB/s \n",
            "\u001b[31mERROR: pip's dependency resolver does not currently take into account all the packages that are installed. This behaviour is the source of the following dependency conflicts.\n",
            "torchtext 0.11.0 requires torch==1.10.0, but you have torch 1.9.1 which is incompatible.\n",
            "torchaudio 0.10.0+cu111 requires torch==1.10.0, but you have torch 1.9.1 which is incompatible.\u001b[0m\n",
            "\u001b[?25h"
          ]
        }
      ],
      "source": [
        "#@title Đoạn này cài thư viện\n",
        "!pip install -q numpy scipy matplotlib pandas scikit-image scikit-learn higher torchmeta cupy-cuda111"
      ]
    },
    {
      "cell_type": "code",
      "source": [
        "#@title Save data pickle file\n",
        "!wget -O saved_models/tasks-200.p https://uc7a61dc07fbb8390183f08f0ec3.dl.dropboxusercontent.com/cd/0/get/Bjj0e8kCTfI7g3zwq6R8yl1wI9A0ToRdZ1YG1vufHNUZoOvdXrCNWzx22QHO9Uyp-FeRM9tHaolty-bnrUYyWpxDdh5L4l5H1udFFNksiJdiBSirPgY9lWxfeG4Y0LZaouUX2TkwFoinaxHhw8lW3o9bRQRMjwdxb_aF4G1GesS4odZkApOobnzvtbTt5Tew9jY/file?_download_id=08659506356343238011435376847989898919099910967350105606883747068947&_notify_domain=www.dropbox.com&dl=1"
      ],
      "metadata": {
        "colab": {
          "base_uri": "https://localhost:8080/"
        },
        "cellView": "form",
        "id": "bmRL4vjlxRjF",
        "outputId": "c1867d79-d236-4907-9488-cabcac92596d"
      },
      "execution_count": null,
      "outputs": [
        {
          "output_type": "stream",
          "name": "stdout",
          "text": [
            "--2022-04-16 23:50:01--  https://uc7a61dc07fbb8390183f08f0ec3.dl.dropboxusercontent.com/cd/0/get/Bjj0e8kCTfI7g3zwq6R8yl1wI9A0ToRdZ1YG1vufHNUZoOvdXrCNWzx22QHO9Uyp-FeRM9tHaolty-bnrUYyWpxDdh5L4l5H1udFFNksiJdiBSirPgY9lWxfeG4Y0LZaouUX2TkwFoinaxHhw8lW3o9bRQRMjwdxb_aF4G1GesS4odZkApOobnzvtbTt5Tew9jY/file?_download_id=08659506356343238011435376847989898919099910967350105606883747068947\n",
            "Resolving uc7a61dc07fbb8390183f08f0ec3.dl.dropboxusercontent.com (uc7a61dc07fbb8390183f08f0ec3.dl.dropboxusercontent.com)... 162.125.1.15, 2620:100:6016:15::a27d:10f\n",
            "Connecting to uc7a61dc07fbb8390183f08f0ec3.dl.dropboxusercontent.com (uc7a61dc07fbb8390183f08f0ec3.dl.dropboxusercontent.com)|162.125.1.15|:443... connected.\n",
            "HTTP request sent, awaiting response... 200 OK\n",
            "Length: 98688910 (94M) [application/binary]\n",
            "Saving to: ‘saved_models/tasks-200.p’\n",
            "\n",
            "saved_models/tasks- 100%[===================>]  94.12M  43.6MB/s    in 2.2s    \n",
            "\n",
            "2022-04-16 23:50:04 (43.6 MB/s) - ‘saved_models/tasks-200.p’ saved [98688910/98688910]\n",
            "\n"
          ]
        }
      ]
    },
    {
      "cell_type": "code",
      "source": [
        "#@title Đoạn này import thư viện tổng\n",
        "from meta_cntk_utils import *\n",
        "from maml_utils import *\n",
        "from tqdm.notebook import trange\n",
        "import torch.nn.functional as F\n",
        "from time import time\n",
        "from copy import deepcopy\n",
        "import pickle\n",
        "import numpy as np\n",
        "\n",
        "%load_ext autoreload\n",
        "%autoreload 2\n",
        "%matplotlib inline"
      ],
      "metadata": {
        "cellView": "form",
        "id": "fuLTq1Stjylb"
      },
      "execution_count": null,
      "outputs": []
    },
    {
      "cell_type": "code",
      "source": [
        "#@title Đoạn này cũng thư viện inner-level\n",
        "\"\"\"\n",
        "Meta-learning Omniglot and mini-imagenet experiments with iMAML-GD (see [1] for more details).\n",
        "\n",
        "The code is quite simple and easy to read thanks to the following two libraries which need both to be installed.\n",
        "- higher: https://github.com/facebookresearch/higher (used to get stateless version of torch nn.Module-s)\n",
        "- torchmeta: https://github.com/tristandeleu/pytorch-meta (used for meta-dataset loading and minibatching)\n",
        "\n",
        "\n",
        "[1] Rajeswaran, A., Finn, C., Kakade, S. M., & Levine, S. (2019).\n",
        "    Meta-learning with implicit gradients. In Advances in Neural Information Processing Systems (pp. 113-124).\n",
        "    https://arxiv.org/abs/1909.04630\n",
        "\"\"\"\n",
        "import math\n",
        "import argparse\n",
        "import time\n",
        "\n",
        "import numpy as np\n",
        "import torch\n",
        "from torch import nn\n",
        "from torch.nn import functional as F\n",
        "\n",
        "from torchmeta.datasets.helpers import omniglot, miniimagenet\n",
        "from torchmeta.utils.data import BatchMetaDataLoader\n",
        "\n",
        "import higher\n",
        "from maml_utils import np2torch\n",
        "import hypergrad as hg\n",
        "import tqdm\n",
        "\n"
      ],
      "metadata": {
        "cellView": "form",
        "id": "rP3hTSdnYtsr"
      },
      "execution_count": null,
      "outputs": []
    },
    {
      "cell_type": "code",
      "source": [
        "class Task:\n",
        "    \"\"\"\n",
        "    Handles the train and valdation loss for a single task\n",
        "    \"\"\"\n",
        "\n",
        "    def __init__(self, reg_param, meta_model, data, batch_size=None):\n",
        "        device = next(meta_model.parameters()).device\n",
        "\n",
        "        # stateless version of meta_model\n",
        "        self.fmodel = higher.monkeypatch(meta_model, device=device, copy_initial_weights=True)\n",
        "\n",
        "        self.n_params = len(list(meta_model.parameters()))\n",
        "        self.train_input, self.train_target, self.test_input, self.test_target = data\n",
        "        self.reg_param = reg_param\n",
        "        self.batch_size = 1 if not batch_size else batch_size\n",
        "        self.val_loss, self.val_acc = None, None\n",
        "\n",
        "    def bias_reg_f(self, bias, params):\n",
        "        # l2 biased regularization\n",
        "        return sum([((b - p) ** 2).sum() for b, p in zip(bias, params)])\n",
        "\n",
        "    def train_loss_f(self, params, hparams):\n",
        "        # biased regularized cross-entropy loss where the bias are the meta-parameters in hparams\n",
        "        out = self.fmodel(self.train_input, params=params)\n",
        "        return F.cross_entropy(out, self.train_target) + 0.5 * self.reg_param * self.bias_reg_f(hparams, params)\n",
        "\n",
        "    def val_loss_f(self, params, hparams):\n",
        "        # cross-entropy loss (uses only the task-specific weights in params\n",
        "        out = self.fmodel(self.test_input, params=params)\n",
        "        val_loss = F.cross_entropy(out, self.test_target)/self.batch_size\n",
        "        self.val_loss = val_loss.item()  # avoid memory leaks\n",
        "\n",
        "        pred = out.argmax(dim=1, keepdim=True)  # get the index of the max log-probability\n",
        "        self.val_acc = pred.eq(self.test_target.view_as(pred)).sum().item() / len(self.test_target)\n",
        "\n",
        "        return val_loss"
      ],
      "metadata": {
        "id": "nv-gaCcCw5BQ"
      },
      "execution_count": null,
      "outputs": []
    },
    {
      "cell_type": "code",
      "source": [
        "def inner_loop(hparams, params, optim, n_steps, log_interval, create_graph=False):\n",
        "    params_history = [optim.get_opt_params(params)]\n",
        "\n",
        "    for t in range(n_steps):\n",
        "        params_history.append(optim(params_history[-1], hparams, create_graph=create_graph))\n",
        "\n",
        "        if log_interval and (t % log_interval == 0 or t == n_steps-1):\n",
        "            print('t={}, Loss: {:.6f}'.format(t, optim.curr_loss.item()))\n",
        "\n",
        "    return params_history\n",
        "\n",
        "def get_cnn_omniglot(hidden_size, n_classes):\n",
        "    def conv_layer(ic, oc, ):\n",
        "        return nn.Sequential(\n",
        "            nn.Conv2d(ic, oc, 3, padding=1), nn.ReLU(inplace=True), nn.MaxPool2d(2),\n",
        "            nn.BatchNorm2d(oc, momentum=1., affine=True,\n",
        "                           track_running_stats=True\n",
        "                           )\n",
        "        )\n",
        "\n",
        "    net =  nn.Sequential(\n",
        "        conv_layer(1, hidden_size),\n",
        "        conv_layer(hidden_size, hidden_size),\n",
        "        conv_layer(hidden_size, hidden_size),\n",
        "        conv_layer(hidden_size, hidden_size),\n",
        "        nn.Flatten(),\n",
        "        nn.Linear(hidden_size, n_classes)\n",
        "    )\n",
        "\n",
        "    initialize(net)\n",
        "    return net\n",
        "\n",
        "\n",
        "def initialize(net):\n",
        "    for m in net.modules():\n",
        "        if isinstance(m, nn.Conv2d):\n",
        "            n = m.kernel_size[0] * m.kernel_size[1] * m.out_channels\n",
        "            m.weight.data.normal_(0, math.sqrt(2. / n))\n",
        "            if m.bias is not None:\n",
        "                m.bias.data.zero_()\n",
        "        elif isinstance(m, nn.BatchNorm2d):\n",
        "            m.weight.data.fill_(1)\n",
        "            m.bias.data.zero_()\n",
        "        elif isinstance(m, nn.Linear):\n",
        "            m.weight.data.zero_()\n",
        "            m.bias.data.zero_()\n",
        "\n",
        "    return net\n",
        "\n",
        "def get_inner_opt(train_loss):\n",
        "    inner_opt_class = hg.GradientDescent\n",
        "    inner_opt_kwargs = {'step_size': .1}\n",
        "    return inner_opt_class(train_loss, **inner_opt_kwargs)"
      ],
      "metadata": {
        "id": "25V358nmxBIc"
      },
      "execution_count": null,
      "outputs": []
    },
    {
      "cell_type": "code",
      "source": [
        "def train_imaml(meta_model,db,reg_param,hg_mode,K,T,outer_opt,inner_log_interval,notebook=True):\n",
        "    meta_model.train()\n",
        "    n_train_iter = db.x_train.shape[0] // db.batchsz\n",
        "    for batch_idx in range(n_train_iter):\n",
        "        tr_xs, tr_ys, tst_xs, tst_ys = db.next()\n",
        "        outer_opt.zero_grad()\n",
        "\n",
        "        val_loss, val_acc = 0, 0\n",
        "        forward_time, backward_time = 0, 0\n",
        "        for t_idx, (tr_x, tr_y, tst_x, tst_y) in enumerate(zip(tr_xs, tr_ys, tst_xs, tst_ys)):\n",
        "            start_time_task = time.time()\n",
        "\n",
        "            # single task set up\n",
        "            task = Task(reg_param, meta_model, (tr_x, tr_y, tst_x, tst_y), batch_size=tr_xs.shape[0])\n",
        "            inner_opt = get_inner_opt(task.train_loss_f)\n",
        "\n",
        "            # single task inner loop\n",
        "            params = [p.detach().clone().requires_grad_(True) for p in meta_model.parameters()]\n",
        "            last_param = inner_loop(meta_model.parameters(), params, inner_opt, T, log_interval=inner_log_interval)[-1]\n",
        "            forward_time_task = time.time() - start_time_task\n",
        "\n",
        "            # single task hypergradient computation\n",
        "            if hg_mode == 'CG':\n",
        "                # This is the approximation used in the paper CG stands for conjugate gradient\n",
        "                cg_fp_map = hg.GradientDescent(loss_f=task.train_loss_f, step_size=1.)\n",
        "                hg.CG(last_param, list(meta_model.parameters()), K=K, fp_map=cg_fp_map, outer_loss=task.val_loss_f)\n",
        "            elif hg_mode == 'fixed_point':\n",
        "                hg.fixed_point(last_param, list(meta_model.parameters()), K=K, fp_map=inner_opt,\n",
        "                               outer_loss=task.val_loss_f)\n",
        "\n",
        "            backward_time_task = time.time() - start_time_task - forward_time_task\n",
        "\n",
        "            val_loss += task.val_loss\n",
        "            val_acc += task.val_acc / task.batch_size\n",
        "\n",
        "            forward_time += forward_time_task\n",
        "            backward_time += backward_time_task\n",
        "\n",
        "    outer_opt.step()"
      ],
      "metadata": {
        "id": "tM9WBRdkxBwB"
      },
      "execution_count": null,
      "outputs": []
    },
    {
      "cell_type": "code",
      "source": [
        "def test_imaml(test_tasks, meta_model, n_steps, get_inner_opt, reg_param, log_interval=None):\n",
        "    meta_model.train()\n",
        "    device = next(meta_model.parameters()).device\n",
        "\n",
        "    val_losses, val_accs = [], []\n",
        "    tr_xs,tr_ys,tst_xs,tst_ys = test_tasks\n",
        "\n",
        "    tr_xs, tr_ys, tst_xs, tst_ys = np2torch([tr_xs, tr_ys, tst_xs, tst_ys],device=device,label_long_type=True)\n",
        "    for t_idx, (tr_x, tr_y, tst_x, tst_y) in enumerate(zip(tr_xs, tr_ys, tst_xs, tst_ys)):\n",
        "\n",
        "        task = Task(reg_param, meta_model, (tr_x, tr_y, tst_x, tst_y))\n",
        "        inner_opt = get_inner_opt(task.train_loss_f)\n",
        "\n",
        "        params = [p.detach().clone().requires_grad_(True) for p in meta_model.parameters()]\n",
        "        last_param = inner_loop(meta_model.parameters(), params, inner_opt, n_steps, log_interval=log_interval)[-1]\n",
        "\n",
        "        task.val_loss_f(last_param, meta_model.parameters())\n",
        "\n",
        "        val_losses.append(task.val_loss)\n",
        "        val_accs.append(task.val_acc)\n",
        "\n",
        "    return np.array(val_losses), np.array(val_accs)"
      ],
      "metadata": {
        "id": "kiwwGFhUzApE"
      },
      "execution_count": null,
      "outputs": []
    },
    {
      "cell_type": "code",
      "source": [
        "cuda = torch.cuda.is_available()\n",
        "kwargs = {'num_workers': 1, 'pin_memory': True} if cuda else {}\n",
        "seed = 42\n",
        "if torch.cuda.is_available():\n",
        "  device = torch.device(\"cuda\")\n",
        "else:\n",
        "  device = torch.device(\"cpu\")\n",
        "\n",
        "print(\"Success init\", device)\n",
        "\n",
        "torch.random.manual_seed(seed)\n",
        "np.random.seed(seed)"
      ],
      "metadata": {
        "colab": {
          "base_uri": "https://localhost:8080/"
        },
        "id": "xFfVz4M-05jo",
        "outputId": "f783913c-58c6-4e05-956b-687b3166a542"
      },
      "execution_count": null,
      "outputs": [
        {
          "output_type": "stream",
          "name": "stdout",
          "text": [
            "Success init cuda\n"
          ]
        }
      ]
    },
    {
      "cell_type": "code",
      "source": [
        "hg_mode = 'CG'\n",
        "inner_log_interval = None\n",
        "inner_log_interval_test = None\n",
        "ways = n_way = 5\n",
        "shots = n_shot = 5\n",
        "test_shots=20-n_shot\n",
        "\n",
        "n_channels = 64\n",
        "\n",
        "reg_param = 2\n",
        "T, K = 16, 5\n",
        "\n",
        "# K: number of CG step\n",
        "# T: number of innerloop update step\n",
        "\n",
        "T_test = T\n",
        "inner_lr = .1\n",
        "\n",
        "\n",
        "\n",
        "meta_model = get_cnn_omniglot(n_channels, ways).to(device)\n",
        "outer_opt = torch.optim.Adam(params=meta_model.parameters())\n",
        "inner_opt_class = hg.GradientDescent\n",
        "inner_opt_kwargs = {'step_size': inner_lr}\n",
        "import pickle\n",
        "def get_inner_opt(train_loss):\n",
        "    return inner_opt_class(train_loss, **inner_opt_kwargs)"
      ],
      "metadata": {
        "id": "VEQrLP69aEVA"
      },
      "execution_count": null,
      "outputs": []
    },
    {
      "cell_type": "code",
      "source": [
        "accs = {}\n",
        "n_characters = 20 # number of characters (i.e., classes) in the training dataset\n",
        "\n",
        "assert n_characters % n_way == 0 \n",
        "\n",
        "# Each task consists of n_way classes \n",
        "# So the least number of tasks is\n",
        "# n_characters//n_way.\n",
        "n_task = n_characters//n_way\n",
        "\n",
        "# number of channels for MAML CNN\n",
        "n_channel_maml = 64"
      ],
      "metadata": {
        "id": "8LrLSbw1db3o"
      },
      "execution_count": null,
      "outputs": []
    },
    {
      "cell_type": "code",
      "source": [
        "#@title Load raw dataset and encode label\n",
        "from types import SimpleNamespace\n",
        "import time\n",
        "dataset = load_dataset(n_task,True,seed)\n",
        "train_set,test_set = get_train_data(dataset,n_test_per_class=1)\n",
        "\n",
        "label_encoding_dim = 250\n",
        "batch_norm = True # batch_norm for the feature extractor\n",
        "dropout = 0 # Dropout for the feature extractor\n",
        "pretrain_batch_size = 16\n",
        "weight_decay = 0\n",
        "pretrain_epochs = 50\n",
        "train_data_enlarge_ratio =15\n",
        "# Construct a randomly initialized CNN as the feature extractor.\n",
        "net = build_CNN(train_set['n_class'], device, n_channel=label_encoding_dim,batch_norm=batch_norm,dropout=dropout)\n",
        "\n",
        "if pretrain_epochs > 0:\n",
        "    # Train a CNN on training data by supervised learning, in order\n",
        "    # to obtain a better feature extractor than a random CNN when\n",
        "    # training daorig_datasetta is relatively large. As the training data are of \n",
        "    # small-size, the supervised training leads to overfitted CNN,\n",
        "    # which is a worse feature extractor than a random CNN.\n",
        "    net,test_accs,test_losses = pretrain(net,train_set,test_set,device,seed=seed,epochs=pretrain_epochs,\n",
        "                                         weight_decay=weight_decay,batch_size=pretrain_batch_size)\n",
        "\n",
        "encode_labels(dataset,net,device)\n",
        "\n",
        "# Given n_way*n_task classes of samples, we can us resampling to obtain many tasks that consists of n_way distinct classes\n",
        "# of samples. The following is the resampling procedure.\n",
        "from copy import deepcopy\n",
        "orig_dataset = deepcopy(dataset)\n",
        "if train_data_enlarge_ratio > 1:\n",
        "    augment_train_data(dataset,enlarge_ratio=train_data_enlarge_ratio,n_way=n_way,n_shot=n_shot,seed=seed)\n",
        "\n",
        "preprocess_label_embeddings(dataset)"
      ],
      "metadata": {
        "colab": {
          "base_uri": "https://localhost:8080/",
          "height": 17,
          "referenced_widgets": [
            "b9d72d06c6b24624a83084dc94f790c2",
            "77dce6dfef3340d9b563618cae9aad3a",
            "662622d0264b440090097bacf174aced",
            "b2a858da7e314686bad4d914e7f94c28",
            "ae1562d6caae4c87afd9dd18650db23e",
            "552063b845ec4a4fbbaabef98d08a160",
            "981ce36ea72b4a13aa3f53a58f4f451c",
            "649d4b2cfcb94ed4ad0ce5d2a6abfb4d",
            "a80dd279b7a04ce9a4b5fb77e9975a68",
            "29b221afa68e4b1496cb683f89d17bb1",
            "eeddaa38bbb041359aea2167cc76ab87"
          ]
        },
        "cellView": "form",
        "id": "fHlUhnwRdYkd",
        "outputId": "174de983-b924-41f4-9f02-87d672d8aeda"
      },
      "execution_count": null,
      "outputs": [
        {
          "output_type": "display_data",
          "data": {
            "text/plain": [
              "Train Supervised:   0%|          | 0/50 [00:00<?, ?it/s]"
            ],
            "application/vnd.jupyter.widget-view+json": {
              "version_major": 2,
              "version_minor": 0,
              "model_id": "b9d72d06c6b24624a83084dc94f790c2"
            }
          },
          "metadata": {}
        }
      ]
    },
    {
      "cell_type": "code",
      "source": [
        "#@title Process data thành few-shot setting\n",
        "preprocess_label_embeddings(orig_dataset)\n",
        "tasks = vars(orig_dataset)\n",
        "\n",
        "X = np.concatenate([tasks['X_qry'],tasks['X_spt']],axis=1)\n",
        "Y = np.concatenate([tasks['Y_qry'],tasks['Y_spt']],axis=1)\n",
        "Y_emb = np.concatenate([tasks['Y_qry_emb'],tasks['Y_spt_emb']],axis=1)\n",
        "new_X =[]\n",
        "new_Y_emb = []\n",
        "for x,y,y_emb in zip(X,Y,Y_emb):\n",
        "    idxes = np.argsort(y).reshape(n_way,-1)\n",
        "    for i in range(idxes.shape[0]):\n",
        "        new_X.append([])\n",
        "        new_Y_emb.append([])\n",
        "        for j in range(idxes.shape[1]):\n",
        "            idx = idxes[i,j]\n",
        "            new_X[-1].append(x[idx])\n",
        "            new_Y_emb[-1].append(y_emb[idx])\n",
        "x_train = remove_padding(np.array(new_X))\n",
        "y_train = None\n",
        "\n",
        "test_tasks = remove_padding(tasks['test_X_spt']), tasks['test_Y_spt'],remove_padding(tasks['test_X_qry']), tasks['test_Y_qry']\n",
        "\n",
        "from support.omniglot_loaders_original import OmniglotNShot\n",
        "n_channel = n_channel_maml\n",
        "batchsz = min(32 if n_channel <= 1024 else 8, n_characters)\n",
        "\n",
        "db = OmniglotNShot(root=None,\n",
        "    batchsz=batchsz,\n",
        "    n_way=5,\n",
        "    k_shot=1,\n",
        "    k_query=19,\n",
        "    imgsz=28,\n",
        "    device=device,\n",
        "    n_train_tasks=None,\n",
        "    given_x=True,\n",
        "    x_train=x_train,\n",
        "    x_test=None,\n",
        "    y_train = y_train,\n",
        ")\n",
        "n_out = n_way\n",
        "net, meta_opt = build_MAML_model(n_out,device,lr=1e-3,n_channel=n_channel)"
      ],
      "metadata": {
        "colab": {
          "base_uri": "https://localhost:8080/"
        },
        "cellView": "code",
        "id": "RcRuFb6bdH3k",
        "outputId": "58a2a049-b76e-4a0b-a0cf-b80823fd1d60"
      },
      "execution_count": null,
      "outputs": [
        {
          "output_type": "stream",
          "name": "stdout",
          "text": [
            "DB: train (20, 20, 1, 28, 28)\n"
          ]
        }
      ]
    },
    {
      "cell_type": "code",
      "source": [
        "Dtr_spx, Dtr_spy, Dtr_qrx, Dtr_qry = db.next()\n",
        "print(f\"Batchsize: {batchsz}\")\n",
        "print(f\"D train support set X shape: {Dtr_spx.shape}\")\n",
        "print(f\"D train support set Y shape: {Dtr_spy.shape}\")\n",
        "print(f\"D train query set X shape: {Dtr_qrx.shape}\")\n",
        "print(f\"D train query set Y shape: {Dtr_qry.shape}\")"
      ],
      "metadata": {
        "colab": {
          "base_uri": "https://localhost:8080/"
        },
        "id": "KYFjZE-1DgRC",
        "outputId": "379ff8db-7ff5-42a6-cbb7-262da7f9de3f"
      },
      "execution_count": null,
      "outputs": [
        {
          "output_type": "stream",
          "name": "stdout",
          "text": [
            "Batchsize: 20\n",
            "D train support set X shape: torch.Size([20, 5, 1, 28, 28])\n",
            "D train support set Y shape: torch.Size([20, 5])\n",
            "D train query set X shape: torch.Size([20, 95, 1, 28, 28])\n",
            "D train query set Y shape: torch.Size([20, 95])\n"
          ]
        }
      ]
    },
    {
      "cell_type": "code",
      "source": [
        "#@title iMAML\n",
        "\n",
        "from tqdm.notebook import trange\n",
        "import time\n",
        "\n",
        "imaml_epochs = 200\n",
        "eval_interval = 5\n",
        "log_interval = 5\n",
        "\n",
        "test_accs = []\n",
        "t = trange(imaml_epochs,desc='i-MAML Epoch')\n",
        "for k in t:\n",
        "    train_imaml(meta_model,db,reg_param,hg_mode,K,T,outer_opt,inner_log_interval)\n",
        "    if k % eval_interval == 0:\n",
        "        test_losses, test_acc = test_imaml(test_tasks, meta_model, T_test, get_inner_opt, reg_param, log_interval=None)\n",
        "        test_acc = np.mean(test_acc)*100\n",
        "        test_accs.append(test_acc)\n",
        "        t.set_postfix(test_acc=test_acc,max_test_acc=np.max(test_accs))\n",
        "accs['i-maml_accs'] = np.max(test_accs)"
      ],
      "metadata": {
        "colab": {
          "base_uri": "https://localhost:8080/",
          "height": 49,
          "referenced_widgets": [
            "51f7e5dd0cd84da4ac6af4302e04dc44",
            "561b4b36294448f0a41bcd3dec24e2d9",
            "8b2a40857d0945b68c65854ef5e63657",
            "2b6f8be39e5746459554d67d752a474d",
            "c03cc66fc7bd41dab3036902c9b83128",
            "ed9a3d046e5e4d84a7049b2baa43bd4e",
            "6117593a2a8a41c5ab470de709adeda0",
            "5b2e678e1b78461ebf4c6b763496d5fb",
            "4b62e84f90f4485ab4e9b60d7ffda002",
            "a09de1e8b26b46849a82f085107a4044",
            "a7b8fc4b3803415b8c22c450ed77ad3c"
          ]
        },
        "cellView": "code",
        "id": "LhvYwMiGaIFo",
        "outputId": "9ba5a273-614a-42ff-f870-511ec67907de"
      },
      "execution_count": null,
      "outputs": [
        {
          "output_type": "display_data",
          "data": {
            "text/plain": [
              "i-MAML Epoch:   0%|          | 0/200 [00:00<?, ?it/s]"
            ],
            "application/vnd.jupyter.widget-view+json": {
              "version_major": 2,
              "version_minor": 0,
              "model_id": "51f7e5dd0cd84da4ac6af4302e04dc44"
            }
          },
          "metadata": {}
        }
      ]
    },
    {
      "cell_type": "code",
      "source": [
        "(accs['i-maml_accs'])"
      ],
      "metadata": {
        "colab": {
          "base_uri": "https://localhost:8080/"
        },
        "id": "tHGh-WQyP4Tw",
        "outputId": "dbd6b906-3194-4820-c295-761eec0db3fa"
      },
      "execution_count": null,
      "outputs": [
        {
          "output_type": "execute_result",
          "data": {
            "text/plain": [
              "85.39473684210527"
            ]
          },
          "metadata": {},
          "execution_count": 39
        }
      ]
    },
    {
      "cell_type": "markdown",
      "source": [
        "REFS: https://github.com/AI-secure/Meta-Neural-Kernel/tree/7d99afdb796855623ef7f122f0e5bccc83ed5180"
      ],
      "metadata": {
        "id": "wb0_fuf2TJCV"
      }
    }
  ]
}